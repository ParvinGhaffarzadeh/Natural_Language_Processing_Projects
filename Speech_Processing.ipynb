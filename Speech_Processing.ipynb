{
  "cells": [
    {
      "cell_type": "markdown",
      "metadata": {
        "id": "view-in-github",
        "colab_type": "text"
      },
      "source": [
        "<a href=\"https://colab.research.google.com/github/ParvinGhaffarzadeh/Natural_Language_Processing_Projects/blob/main/Speech_Processing.ipynb\" target=\"_parent\"><img src=\"https://colab.research.google.com/assets/colab-badge.svg\" alt=\"Open In Colab\"/></a>"
      ]
    },
    {
      "cell_type": "markdown",
      "metadata": {
        "id": "Mubjs-P0me19"
      },
      "source": [
        "*italicized text*# Convert Audio to Text\n"
      ]
    },
    {
      "cell_type": "code",
      "execution_count": null,
      "metadata": {
        "id": "S7lgnyshme2W"
      },
      "outputs": [],
      "source": [
        "#pip install SpeechRecognition\n",
        "#pip install PyAudio"
      ]
    },
    {
      "cell_type": "code",
      "execution_count": null,
      "metadata": {
        "id": "A8bmuXYtme2d"
      },
      "outputs": [],
      "source": [
        "import speech_recognition as sr"
      ]
    },
    {
      "cell_type": "code",
      "execution_count": null,
      "metadata": {
        "id": "57uLF7Pvme2f"
      },
      "outputs": [],
      "source": [
        "r=sr.Recognizer()"
      ]
    },
    {
      "cell_type": "code",
      "execution_count": null,
      "metadata": {
        "id": "N8Wj6TsMme2j",
        "outputId": "df5f17e6-3af2-411e-9e76-81ab6e0cf9cb"
      },
      "outputs": [
        {
          "name": "stdout",
          "output_type": "stream",
          "text": [
            "Please say something\n",
            "Time over, thanks\n",
            "I think you said: hello my name is Karen and I am a university lecture\n"
          ]
        }
      ],
      "source": [
        "with sr.Microphone() as source:\n",
        "    print(\"Please say something\")\n",
        "    audio = r.listen(source)\n",
        "    print(\"Time over, thanks\")\n",
        "try:\n",
        "    print(\"I think you said: \"+r.recognize_google(audio));\n",
        "except:\n",
        "    pass;"
      ]
    },
    {
      "cell_type": "code",
      "execution_count": null,
      "metadata": {
        "id": "yGTbaVBMme2p",
        "outputId": "a1d93681-dbd2-47ec-cdd9-e350af7bbf31"
      },
      "outputs": [
        {
          "name": "stdout",
          "output_type": "stream",
          "text": [
            "Please say something\n",
            "Time over, thanks\n",
            "I think you said: سلام من پروین هستم و مدرس دانشگاه هستم\n"
          ]
        }
      ],
      "source": [
        "with sr.Microphone() as source:\n",
        "    print(\"Please say something\")\n",
        "    audio = r.listen(source)\n",
        "    print(\"Time over, thanks\")\n",
        "try:\n",
        "    print(\"I think you said: \"+r.recognize_google(audio, language='fa-FA'));\n",
        "    \n",
        "except:\n",
        "    pass;"
      ]
    },
    {
      "cell_type": "markdown",
      "metadata": {
        "id": "oYdfPKnkme2u"
      },
      "source": [
        "# تبدیل متن به صوت"
      ]
    },
    {
      "cell_type": "code",
      "execution_count": null,
      "metadata": {
        "id": "Q_JXkUFTme2z"
      },
      "outputs": [],
      "source": [
        "from gtts import gTTS"
      ]
    },
    {
      "cell_type": "code",
      "execution_count": null,
      "metadata": {
        "id": "b4SrLtwnme24"
      },
      "outputs": [],
      "source": [
        "#اجرای تابع GTTS\n",
        "#انتخاب زبان, English('en')\n",
        "convert = gTTS(text= \"Hi I am Parvin and I am a university lecturer\"\n",
        "                , lang= 'en-us', slow=False)\n",
        "#convert = gTTS(text= \"Hola. Yo soy un cientifico de los datos en el contexto de seguro.\"\n",
        "                #, lang= 'es-us', slow=False)"
      ]
    },
    {
      "cell_type": "code",
      "execution_count": null,
      "metadata": {
        "id": "vCtk7olome2_"
      },
      "outputs": [],
      "source": [
        "# ذخیره کردن فایل\n",
        "convert.save(\"C:\\\\Users\\\\parak_gh\\\\Desktop\\\\آموزش پردازش صوت2.mp3\")"
      ]
    },
    {
      "cell_type": "code",
      "execution_count": null,
      "metadata": {
        "id": "bGSWTGvzme3E"
      },
      "outputs": [],
      "source": [
        ""
      ]
    }
  ],
  "metadata": {
    "kernelspec": {
      "display_name": "Python 3 (ipykernel)",
      "language": "python",
      "name": "python3"
    },
    "language_info": {
      "codemirror_mode": {
        "name": "ipython",
        "version": 3
      },
      "file_extension": ".py",
      "mimetype": "text/x-python",
      "name": "python",
      "nbconvert_exporter": "python",
      "pygments_lexer": "ipython3",
      "version": "3.9.7"
    },
    "colab": {
      "name": "Speech_Processing.ipynb",
      "provenance": [],
      "include_colab_link": true
    }
  },
  "nbformat": 4,
  "nbformat_minor": 0
}
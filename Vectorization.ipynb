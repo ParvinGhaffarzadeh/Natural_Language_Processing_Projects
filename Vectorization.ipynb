{
  "cells": [
    {
      "cell_type": "markdown",
      "metadata": {
        "id": "view-in-github",
        "colab_type": "text"
      },
      "source": [
        "<a href=\"https://colab.research.google.com/github/ParvinGhaffarzadeh/Natural_Language_Processing_Projects/blob/main/Vectorization.ipynb\" target=\"_parent\"><img src=\"https://colab.research.google.com/assets/colab-badge.svg\" alt=\"Open In Colab\"/></a>"
      ]
    },
    {
      "cell_type": "code",
      "execution_count": null,
      "id": "da7a66c9",
      "metadata": {
        "id": "da7a66c9"
      },
      "outputs": [],
      "source": [
        "from nltk import sent_tokenize"
      ]
    },
    {
      "cell_type": "code",
      "execution_count": null,
      "id": "1bea571a",
      "metadata": {
        "id": "1bea571a"
      },
      "outputs": [],
      "source": [
        "import re"
      ]
    },
    {
      "cell_type": "code",
      "execution_count": null,
      "id": "0767a54a",
      "metadata": {
        "id": "0767a54a"
      },
      "outputs": [],
      "source": [
        "from nltk.corpus import stopwords\n",
        "from nltk.stem import PorterStemmer"
      ]
    },
    {
      "cell_type": "code",
      "execution_count": null,
      "id": "8c56e215",
      "metadata": {
        "id": "8c56e215"
      },
      "outputs": [],
      "source": [
        "txt = \"\"\"A major drawback of statistical methods is that they require elaborate feature engineering. \n",
        "Since the early 2010s, the field has thus largely abandoned statistical methods and shifted to neural networks for machine learning. \n",
        "Popular techniques include the use of word embeddings to capture semantic properties of words, and an increase in end-to-end learning of a higher-level task (e.g., question answering) instead of relying on a pipeline of separate intermediate tasks (e.g., part-of-speech tagging and dependency parsing).\n",
        "In some areas, this shift has entailed substantial changes in how NLP systems are designed, such that deep neural network-based approaches may be viewed as a new paradigm distinct from statistical natural language processing. \n",
        "For instance, the term neural machine translation (NMT) emphasizes the fact that deep learning-based approaches to machine translation directly learn sequence-to-sequence transformations, obviating the need for intermediate steps such as word alignment and language modeling that was used in statistical machine translation (SMT). \n",
        "Latest works tend to use non-technical structure of a given task to build proper neural network\n",
        "\"\"\""
      ]
    },
    {
      "cell_type": "code",
      "execution_count": null,
      "id": "4e4f99b3",
      "metadata": {
        "id": "4e4f99b3"
      },
      "outputs": [],
      "source": [
        "#cleaning text\n",
        "sent=sent_tokenize(txt)"
      ]
    },
    {
      "cell_type": "code",
      "execution_count": null,
      "id": "4cee6c36",
      "metadata": {
        "id": "4cee6c36",
        "outputId": "3d7cba61-4ffb-47e6-dddb-df03496a08af"
      },
      "outputs": [
        {
          "data": {
            "text/plain": [
              "['A major drawback of statistical methods is that they require elaborate feature engineering.',\n",
              " 'Since the early 2010s, the field has thus largely abandoned statistical methods and shifted to neural networks for machine learning.',\n",
              " 'Popular techniques include the use of word embeddings to capture semantic properties of words, and an increase in end-to-end learning of a higher-level task (e.g., question answering) instead of relying on a pipeline of separate intermediate tasks (e.g., part-of-speech tagging and dependency parsing).',\n",
              " 'In some areas, this shift has entailed substantial changes in how NLP systems are designed, such that deep neural network-based approaches may be viewed as a new paradigm distinct from statistical natural language processing.',\n",
              " 'For instance, the term neural machine translation (NMT) emphasizes the fact that deep learning-based approaches to machine translation directly learn sequence-to-sequence transformations, obviating the need for intermediate steps such as word alignment and language modeling that was used in statistical machine translation (SMT).',\n",
              " 'Latest works tend to use non-technical structure of a given task to build proper neural network']"
            ]
          },
          "execution_count": 4,
          "metadata": {},
          "output_type": "execute_result"
        }
      ],
      "source": [
        "sent"
      ]
    },
    {
      "cell_type": "code",
      "execution_count": null,
      "id": "b8f2a236",
      "metadata": {
        "id": "b8f2a236"
      },
      "outputs": [],
      "source": [
        "stemmer = PorterStemmer()"
      ]
    },
    {
      "cell_type": "code",
      "execution_count": null,
      "id": "926e9d77",
      "metadata": {
        "id": "926e9d77"
      },
      "outputs": [],
      "source": [
        "corpus=[]"
      ]
    },
    {
      "cell_type": "code",
      "execution_count": null,
      "id": "3a53554b",
      "metadata": {
        "id": "3a53554b",
        "outputId": "6616444c-b83a-414f-9037-825a2e3c657f"
      },
      "outputs": [
        {
          "name": "stdout",
          "output_type": "stream",
          "text": [
            "major drawback statist method requir elabor featur engin\n",
            "\n",
            "\n",
            "sinc earli field thu larg abandon statist method shift neural network machin learn\n",
            "\n",
            "\n",
            "popular techniqu includ use word embed captur semant properti word increas end end learn higher level task e g question answer instead reli pipelin separ intermedi task e g part speech tag depend pars\n",
            "\n",
            "\n",
            "area shift entail substanti chang nlp system design deep neural network base approach may view new paradigm distinct statist natur languag process\n",
            "\n",
            "\n",
            "instanc term neural machin translat nmt emphas fact deep learn base approach machin translat directli learn sequenc sequenc transform obviat need intermedi step word align languag model use statist machin translat smt\n",
            "\n",
            "\n",
            "latest work tend use non technic structur given task build proper neural network\n",
            "\n",
            "\n"
          ]
        }
      ],
      "source": [
        "for s in sent:\n",
        "    review=re.sub(\"[^a-zA-Z]\",\" \",s) #jaygozin ba space dar khode s\n",
        "    review=re.sub(\"\\b[a-zA-Z]\\b\",\" \",review)\n",
        "    review=review.lower()\n",
        "    review=review.split()\n",
        "    review = [stemmer.stem(word) for word in review if not word in set(stopwords.words('english'))]\n",
        "    review = \" \".join(review)\n",
        "    corpus.append(review)\n",
        "    print(review)\n",
        "    print(\"\\n\")"
      ]
    },
    {
      "cell_type": "code",
      "execution_count": null,
      "id": "f6031895",
      "metadata": {
        "id": "f6031895",
        "outputId": "010ace22-d4d3-4d4d-b6b6-4ee8446ee27c"
      },
      "outputs": [
        {
          "data": {
            "text/plain": [
              "['major drawback statist method requir elabor featur engin',\n",
              " 'sinc earli field thu larg abandon statist method shift neural network machin learn',\n",
              " 'popular techniqu includ use word embed captur semant properti word increas end end learn higher level task e g question answer instead reli pipelin separ intermedi task e g part speech tag depend pars',\n",
              " 'area shift entail substanti chang nlp system design deep neural network base approach may view new paradigm distinct statist natur languag process',\n",
              " 'instanc term neural machin translat nmt emphas fact deep learn base approach machin translat directli learn sequenc sequenc transform obviat need intermedi step word align languag model use statist machin translat smt',\n",
              " 'latest work tend use non technic structur given task build proper neural network',\n",
              " 'major drawback statist method requir elabor featur engineering.',\n",
              " 'sinc earli 2010s, field thu larg abandon statist method shift neural network machin learning.',\n",
              " 'popular techniqu includ use word embed captur semant properti words, increas end-to-end learn higher-level task (e.g., question answering) instead reli pipelin separ intermedi task (e.g., part-of-speech tag depend parsing).',\n",
              " 'areas, shift entail substanti chang nlp system designed, deep neural network-bas approach may view new paradigm distinct statist natur languag processing.',\n",
              " 'instance, term neural machin translat (nmt) emphas fact deep learning-bas approach machin translat directli learn sequence-to-sequ transformations, obviat need intermedi step word align languag model use statist machin translat (smt).',\n",
              " 'latest work tend use non-techn structur given task build proper neural network',\n",
              " 'major drawback statist method requir elabor featur engineering.',\n",
              " 'sinc earli 2010s, field thu larg abandon statist method shift neural network machin learning.',\n",
              " 'popular techniqu includ use word embed captur semant properti words, increas end-to-end learn higher-level task (e.g., question answering) instead reli pipelin separ intermedi task (e.g., part-of-speech tag depend parsing).',\n",
              " 'areas, shift entail substanti chang nlp system designed, deep neural network-bas approach may view new paradigm distinct statist natur languag processing.',\n",
              " 'instance, term neural machin translat (nmt) emphas fact deep learning-bas approach machin translat directli learn sequence-to-sequ transformations, obviat need intermedi step word align languag model use statist machin translat (smt).',\n",
              " 'latest work tend use non-techn structur given task build proper neural network']"
            ]
          },
          "execution_count": 19,
          "metadata": {},
          "output_type": "execute_result"
        }
      ],
      "source": [
        "corpus"
      ]
    },
    {
      "cell_type": "code",
      "execution_count": null,
      "id": "70bf38f2",
      "metadata": {
        "id": "70bf38f2"
      },
      "outputs": [],
      "source": [
        "#vectorization\n",
        "from sklearn.feature_extraction.text import CountVectorizer\n",
        "cv=CountVectorizer()\n",
        "bow=cv.fit_transform(corpus).toarray()"
      ]
    },
    {
      "cell_type": "code",
      "execution_count": null,
      "id": "6b97a0a3",
      "metadata": {
        "id": "6b97a0a3"
      },
      "outputs": [],
      "source": [
        "from sklearn.feature_extraction.text import TfidfVectorizer\n",
        "tf = TfidfVectorizer()\n",
        "tfidf = tf.fit_transform(corpus).toarray()"
      ]
    },
    {
      "cell_type": "code",
      "execution_count": null,
      "id": "12d526c8",
      "metadata": {
        "id": "12d526c8",
        "outputId": "15b6ffdf-36b7-47b9-f154-11ec7a560f58"
      },
      "outputs": [
        {
          "name": "stdout",
          "output_type": "stream",
          "text": [
            "[[0 0 0 ... 0 0 0]\n",
            " [0 1 0 ... 0 0 0]\n",
            " [0 0 0 ... 2 0 0]\n",
            " ...\n",
            " [0 0 0 ... 0 0 0]\n",
            " [0 0 1 ... 1 0 0]\n",
            " [0 0 0 ... 0 0 1]]\n"
          ]
        }
      ],
      "source": [
        "print(bow)"
      ]
    },
    {
      "cell_type": "code",
      "execution_count": null,
      "id": "2a2e3250",
      "metadata": {
        "id": "2a2e3250",
        "outputId": "2e4d2c9d-7bea-43ca-b0c3-8567ed9d5aab"
      },
      "outputs": [
        {
          "name": "stdout",
          "output_type": "stream",
          "text": [
            "[[0.         0.         0.         ... 0.         0.         0.        ]\n",
            " [0.         0.32873797 0.         ... 0.         0.         0.        ]\n",
            " [0.         0.         0.         ... 0.27327222 0.         0.        ]\n",
            " ...\n",
            " [0.         0.         0.         ... 0.         0.         0.        ]\n",
            " [0.         0.         0.15637232 ... 0.12114881 0.         0.        ]\n",
            " [0.         0.         0.         ... 0.         0.         0.29994044]]\n"
          ]
        }
      ],
      "source": [
        "print(tfidf)"
      ]
    },
    {
      "cell_type": "code",
      "execution_count": null,
      "id": "1747e911",
      "metadata": {
        "id": "1747e911"
      },
      "outputs": [],
      "source": [
        ""
      ]
    }
  ],
  "metadata": {
    "kernelspec": {
      "display_name": "Python 3 (ipykernel)",
      "language": "python",
      "name": "python3"
    },
    "language_info": {
      "codemirror_mode": {
        "name": "ipython",
        "version": 3
      },
      "file_extension": ".py",
      "mimetype": "text/x-python",
      "name": "python",
      "nbconvert_exporter": "python",
      "pygments_lexer": "ipython3",
      "version": "3.9.7"
    },
    "colab": {
      "name": "Vectorization.ipynb",
      "provenance": [],
      "include_colab_link": true
    }
  },
  "nbformat": 4,
  "nbformat_minor": 5
}